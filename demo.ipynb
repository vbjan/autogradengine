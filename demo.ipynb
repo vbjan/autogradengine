{
 "cells": [
  {
   "cell_type": "code",
   "execution_count": 1,
   "id": "efdb688a",
   "metadata": {},
   "outputs": [],
   "source": [
    "from autograd import Variable, Module\n",
    "import autograd\n",
    "from optimizer import GD\n",
    "\n",
    "import random\n",
    "from mpl_toolkits.mplot3d import Axes3D\n",
    "\n",
    "import numpy as np\n",
    "import math\n",
    "import matplotlib.pyplot as plt\n",
    "import pylab\n",
    "plt.rcParams[\"figure.figsize\"] = (10,10)"
   ]
  },
  {
   "cell_type": "markdown",
   "id": "41259458",
   "metadata": {},
   "source": [
    "# Simple Example: Minimizing Quadratic Function\n"
   ]
  },
  {
   "cell_type": "code",
   "execution_count": 2,
   "id": "2a8fdd07",
   "metadata": {},
   "outputs": [],
   "source": [
    "# Defining the function to be optimized\n",
    "def f(x):\n",
    "    return (x-2)**2 + 4*x - 2\n",
    "    \n",
    "\n",
    "class QuadrFuncMod(Module):\n",
    "    def __init__(self):\n",
    "        super(QuadrFuncMod, self).__init__()\n",
    "        self.x = Variable(-3)\n",
    "        self.params.append(self.x)\n",
    "    \n",
    "    def forward(self):\n",
    "        return f(self.x) \n",
    "    \n",
    "    \n",
    "def perform_gd(module, optim, epochs=100):\n",
    "    func_value_history = []\n",
    "    x_value_history = []\n",
    "    for epoch in range(epochs):\n",
    "        x_value_history.append(module.x.value)\n",
    "        optim.zero_grad()\n",
    "        func_value = module.forward()\n",
    "        func_value.backward()\n",
    "        optim.step()\n",
    "        func_value_history.append(func_value.value)\n",
    "        if epoch % 25 == 0:\n",
    "            print(f\"epoch: {epoch} | x: {module.x.value} | f(x): {func_value.value}\")\n",
    "    return x_value_history, func_value_history"
   ]
  },
  {
   "cell_type": "code",
   "execution_count": 3,
   "id": "12762c0a",
   "metadata": {},
   "outputs": [
    {
     "name": "stdout",
     "output_type": "stream",
     "text": [
      "epoch: 0 | x: -2.7 | f(x): 11\n",
      "epoch: 25 | x: -0.19383245667680027 | f(x): 2.046383976865882\n",
      "epoch: 50 | x: -0.013915193059764297 | f(x): 2.000239052589988\n",
      "epoch: 75 | x: -0.000998968909594789 | f(x): 2.000001232023312\n"
     ]
    }
   ],
   "source": [
    "# Perform optimization\n",
    "module = QuadrFuncMod()\n",
    "optim = GD(params=module.params, lr=0.05)\n",
    "x_value_history, func_value_history = perform_gd(module, optim)"
   ]
  },
  {
   "cell_type": "code",
   "execution_count": 4,
   "id": "d2921066",
   "metadata": {},
   "outputs": [
    {
     "data": {
      "image/png": "[encoded data removed]",
      "text/plain": [
       "<Figure size 720x720 with 1 Axes>"
      ]
     },
     "metadata": {
      "needs_background": "light"
     },
     "output_type": "display_data"
    }
   ],
   "source": [
    "x_range = np.arange(-4, 3, .1)\n",
    "plt.plot(x_range, f(x_range), label='f(x)', color='b')\n",
    "plt.plot(x_value_history, func_value_history, '-o', color='r', label='steps of GD')\n",
    "plt.legend()\n",
    "plt.show()"
   ]
  },
  {
   "cell_type": "markdown",
   "id": "80f2afb8",
   "metadata": {},
   "source": [
    "# Multivariate Minimization"
   ]
  },
  {
   "cell_type": "code",
   "execution_count": 38,
   "id": "4682cd21",
   "metadata": {},
   "outputs": [],
   "source": [
    "def z_func(x,y):\n",
    "    return -(1-(x**2+y**3))*np.exp(-(x**2+y**2)/2)\n",
    "    \n",
    "exp = autograd.Exp()\n",
    "\n",
    "\n",
    "class MulVariableMod(Module):\n",
    "    def __init__(self):\n",
    "        super(MulVariableMod, self).__init__()\n",
    "        self.x = Variable(0.5)\n",
    "        self.y = Variable(1.8)\n",
    "        print(f\"Starting initialization: x={self.x.value}, y={self.y.value}\")\n",
    "        self.params.append(self.x)\n",
    "        self.params.append(self.y)\n",
    "    \n",
    "    def forward(self):\n",
    "        return -(1-(self.x**2+self.y**3))*exp(-(self.x**2+self.y**2)/2)\n",
    "    \n",
    "def perform_2d_gd(module, optim, epochs=40):\n",
    "    func_value_history = []\n",
    "    x_value_history = []\n",
    "    y_value_history = []\n",
    "    \n",
    "    for epoch in range(epochs):\n",
    "        x_value_history.append(module.x.value)\n",
    "        y_value_history.append(module.y.value) \n",
    "\n",
    "        optim.zero_grad()\n",
    "        func_value = module.forward()\n",
    "        func_value.backward()\n",
    "        assert(math.isclose(func_value.value, z_func(module.x.value, module.y.value), abs_tol=1e-2))\n",
    "        optim.step()\n",
    "        \n",
    "        func_value_history.append(func_value.value)\n",
    "        if epoch % 2 == 0:\n",
    "            print(f\"epoch: {epoch} | x: {module.x.value} | y: {module.y.value} | f(x): {func_value.value}\")            \n",
    "    return np.array(x_value_history), np.array(y_value_history), np.array(func_value_history)"
   ]
  },
  {
   "cell_type": "code",
   "execution_count": 41,
   "id": "e4cba475",
   "metadata": {},
   "outputs": [
    {
     "name": "stdout",
     "output_type": "stream",
     "text": [
      "Starting initialization: x=0.5, y=1.8\n",
      "epoch: 0 | x: 0.5807383783993567 | y: 1.7700099624946193 | f(x): 0.8875458339293328\n",
      "epoch: 2 | x: 0.7636827819716762 | y: 1.677540559617428 | f(x): 0.8279350503650632\n",
      "epoch: 4 | x: 0.9536686154243212 | y: 1.5270331402212134 | f(x): 0.7397063748723471\n",
      "epoch: 6 | x: 1.1010639730193323 | y: 1.3087110915247961 | f(x): 0.6288576610701607\n",
      "epoch: 8 | x: 1.1278480732956326 | y: 1.025218874828949 | f(x): 0.502965887714375\n",
      "epoch: 10 | x: 0.902915571191885 | y: 0.6737565756232013 | f(x): 0.2981298791122319\n",
      "epoch: 12 | x: 0.2858217436594449 | y: 0.27318515026650336 | f(x): -0.36291660996716524\n",
      "epoch: 14 | x: 0.006293659002324717 | y: 0.08267698552058443 | f(x): -0.982282312207017\n",
      "epoch: 16 | x: 6.580705948420736e-05 | y: 0.03389756132155515 | f(x): -0.9985172626204584\n",
      "epoch: 18 | x: 6.631063268789872e-07 | y: 0.015428840916610877 | f(x): -0.9997306702142917\n",
      "epoch: 20 | x: 6.6416106762552784e-09 | y: 0.007309896550514998 | f(x): -0.9999427777612135\n",
      "epoch: 22 | x: 6.643986140889117e-11 | y: 0.0035251237151396 | f(x): -0.9999870229860273\n",
      "epoch: 24 | x: 6.644539247350937e-13 | y: 0.0017140583057294891 | f(x): -0.999996968209083\n",
      "epoch: 26 | x: 6.644670085487054e-15 | y: 0.0008367484712260014 | f(x): -0.9999992816435542\n",
      "epoch: 28 | x: 6.644701272481803e-17 | y: 0.0004092576481933871 | f(x): -0.9999998286322895\n",
      "epoch: 30 | x: 6.644708733952689e-19 | y: 0.00020035695231806913 | f(x): -0.9999999589842001\n",
      "epoch: 32 | x: 6.64471052234294e-21 | y: 9.813192395933027e-05 | f(x): -0.9999999901672971\n",
      "epoch: 34 | x: 6.644710951370375e-23 | y: 4.807433036391703e-05 | f(x): -0.999999997640952\n",
      "epoch: 36 | x: 6.644711054336952e-25 | y: 2.355394678942664e-05 | f(x): -0.9999999994338024\n",
      "epoch: 38 | x: 6.644711079054193e-27 | y: 1.1540839765295403e-05 | f(x): -0.9999999998640806\n"
     ]
    }
   ],
   "source": [
    "# Perform optimization\n",
    "module = MulVariableMod()\n",
    "optim = GD(params=module.params, lr=0.3)\n",
    "x_value_history, y_value_history, func_value_history = perform_2d_gd(module, optim)"
   ]
  },
  {
   "cell_type": "markdown",
   "id": "9488ddff",
   "metadata": {},
   "source": [
    "Function and plot taking from here: [Link](https://glowingpython.blogspot.com/2012/01/how-to-plot-two-variable-functions-with.html)"
   ]
  },
  {
   "cell_type": "code",
   "execution_count": 42,
   "id": "afb633e9",
   "metadata": {},
   "outputs": [
    {
     "data": {
      "image/png": "[encoded data removed]",
      "text/plain": [
       "<Figure size 720x720 with 1 Axes>"
      ]
     },
     "metadata": {
      "needs_background": "light"
     },
     "output_type": "display_data"
    }
   ],
   "source": [
    "x = np.arange(-3.0,3.0,0.1)\n",
    "y = np.arange(-3.0,3.0,0.1)\n",
    "[X, Y] = np.meshgrid(x, y)\n",
    "fig, ax = plt.subplots(1, 1)\n",
    "Z = z_func(X,Y)\n",
    "ax.contourf(X, Y, Z)  \n",
    "ax.set_xlabel('x')\n",
    "ax.set_ylabel('y')\n",
    "plt.plot(x_value_history, y_value_history, '->', color='r', label='GD steps')\n",
    "plt.legend()\n",
    "plt.show()"
   ]
  },
  {
   "cell_type": "code",
   "execution_count": null,
   "id": "7fbfe7cd",
   "metadata": {},
   "outputs": [],
   "source": []
  },
  {
   "cell_type": "code",
   "execution_count": null,
   "id": "b2a54d0e",
   "metadata": {},
   "outputs": [],
   "source": []
  },
  {
   "cell_type": "code",
   "execution_count": null,
   "id": "5d8df4f3",
   "metadata": {},
   "outputs": [],
   "source": []
  }
 ],
 "metadata": {
  "kernelspec": {
   "display_name": "Python 3",
   "language": "python",
   "name": "python3"
  },
  "language_info": {
   "codemirror_mode": {
    "name": "ipython",
    "version": 3
   },
   "file_extension": ".py",
   "mimetype": "text/x-python",
   "name": "python",
   "nbconvert_exporter": "python",
   "pygments_lexer": "ipython3",
   "version": "3.7.4"
  }
 },
 "nbformat": 4,
 "nbformat_minor": 5
}
